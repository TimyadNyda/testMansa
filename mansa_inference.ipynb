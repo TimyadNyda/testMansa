{
  "cells": [
    {
      "cell_type": "code",
      "execution_count": 1,
      "metadata": {
        "colab": {
          "base_uri": "https://localhost:8080/"
        },
        "id": "eNHEOYbRwtwF",
        "outputId": "7a4a4dbc-5284-4920-adc9-3e1c6971a2d2"
      },
      "outputs": [
        {
          "name": "stdout",
          "output_type": "stream",
          "text": [
            "Cloning into 'kanedama'...\n",
            "remote: Enumerating objects: 991, done.\u001b[K\n",
            "remote: Counting objects: 100% (608/608), done.\u001b[K\n",
            "remote: Compressing objects: 100% (392/392), done.\u001b[K\n",
            "remote: Total 991 (delta 389), reused 337 (delta 212), pack-reused 383\u001b[K\n",
            "Receiving objects: 100% (991/991), 4.91 MiB | 15.32 MiB/s, done.\n",
            "Resolving deltas: 100% (524/524), done.\n",
            "Collecting fastapi==0.70.1\n",
            "  Downloading fastapi-0.70.1-py3-none-any.whl (51 kB)\n",
            "\u001b[K     |████████████████████████████████| 51 kB 707 kB/s \n",
            "\u001b[?25hCollecting pydantic==1.8.2\n",
            "  Downloading pydantic-1.8.2-cp37-cp37m-manylinux2014_x86_64.whl (10.1 MB)\n",
            "\u001b[K     |████████████████████████████████| 10.1 MB 7.8 MB/s \n",
            "\u001b[?25hRequirement already satisfied: requests in /usr/local/lib/python3.7/dist-packages (from -r ./kanedama/datascience/requirements.txt (line 3)) (2.23.0)\n",
            "Collecting uvicorn\n",
            "  Downloading uvicorn-0.16.0-py3-none-any.whl (54 kB)\n",
            "\u001b[K     |████████████████████████████████| 54 kB 4.6 MB/s \n",
            "\u001b[?25hCollecting black\n",
            "  Downloading black-21.12b0-py3-none-any.whl (156 kB)\n",
            "\u001b[K     |████████████████████████████████| 156 kB 89.9 MB/s \n",
            "\u001b[?25hCollecting starlette==0.16.0\n",
            "  Downloading starlette-0.16.0-py3-none-any.whl (61 kB)\n",
            "\u001b[K     |████████████████████████████████| 61 kB 375 kB/s \n",
            "\u001b[?25hRequirement already satisfied: typing-extensions>=3.7.4.3 in /usr/local/lib/python3.7/dist-packages (from pydantic==1.8.2->-r ./kanedama/datascience/requirements.txt (line 2)) (3.10.0.2)\n",
            "Collecting anyio<4,>=3.0.0\n",
            "  Downloading anyio-3.4.0-py3-none-any.whl (78 kB)\n",
            "\u001b[K     |████████████████████████████████| 78 kB 10.3 MB/s \n",
            "\u001b[?25hRequirement already satisfied: idna>=2.8 in /usr/local/lib/python3.7/dist-packages (from anyio<4,>=3.0.0->starlette==0.16.0->fastapi==0.70.1->-r ./kanedama/datascience/requirements.txt (line 1)) (2.10)\n",
            "Collecting sniffio>=1.1\n",
            "  Downloading sniffio-1.2.0-py3-none-any.whl (10 kB)\n",
            "Requirement already satisfied: certifi>=2017.4.17 in /usr/local/lib/python3.7/dist-packages (from requests->-r ./kanedama/datascience/requirements.txt (line 3)) (2021.10.8)\n",
            "Requirement already satisfied: urllib3!=1.25.0,!=1.25.1,<1.26,>=1.21.1 in /usr/local/lib/python3.7/dist-packages (from requests->-r ./kanedama/datascience/requirements.txt (line 3)) (1.24.3)\n",
            "Requirement already satisfied: chardet<4,>=3.0.2 in /usr/local/lib/python3.7/dist-packages (from requests->-r ./kanedama/datascience/requirements.txt (line 3)) (3.0.4)\n",
            "Requirement already satisfied: click>=7.0 in /usr/local/lib/python3.7/dist-packages (from uvicorn->-r ./kanedama/datascience/requirements.txt (line 4)) (7.1.2)\n",
            "Collecting h11>=0.8\n",
            "  Downloading h11-0.12.0-py3-none-any.whl (54 kB)\n",
            "\u001b[K     |████████████████████████████████| 54 kB 4.5 MB/s \n",
            "\u001b[?25hCollecting asgiref>=3.4.0\n",
            "  Downloading asgiref-3.4.1-py3-none-any.whl (25 kB)\n",
            "Collecting pathspec<1,>=0.9.0\n",
            "  Downloading pathspec-0.9.0-py2.py3-none-any.whl (31 kB)\n",
            "Requirement already satisfied: tomli<2.0.0,>=0.2.6 in /usr/local/lib/python3.7/dist-packages (from black->-r ./kanedama/datascience/requirements.txt (line 5)) (1.2.2)\n",
            "Collecting mypy-extensions>=0.4.3\n",
            "  Downloading mypy_extensions-0.4.3-py2.py3-none-any.whl (4.5 kB)\n",
            "Collecting typed-ast>=1.4.2\n",
            "  Downloading typed_ast-1.5.1-cp37-cp37m-manylinux_2_5_x86_64.manylinux1_x86_64.manylinux_2_12_x86_64.manylinux2010_x86_64.whl (843 kB)\n",
            "\u001b[K     |████████████████████████████████| 843 kB 60.0 MB/s \n",
            "\u001b[?25hCollecting platformdirs>=2\n",
            "  Downloading platformdirs-2.4.0-py3-none-any.whl (14 kB)\n",
            "Installing collected packages: sniffio, anyio, typed-ast, starlette, pydantic, platformdirs, pathspec, mypy-extensions, h11, asgiref, uvicorn, fastapi, black\n",
            "Successfully installed anyio-3.4.0 asgiref-3.4.1 black-21.12b0 fastapi-0.70.1 h11-0.12.0 mypy-extensions-0.4.3 pathspec-0.9.0 platformdirs-2.4.0 pydantic-1.8.2 sniffio-1.2.0 starlette-0.16.0 typed-ast-1.5.1 uvicorn-0.16.0\n",
            "Requirement already satisfied: tensorflow in /usr/local/lib/python3.7/dist-packages (2.7.0)\n",
            "Requirement already satisfied: protobuf>=3.9.2 in /usr/local/lib/python3.7/dist-packages (from tensorflow) (3.17.3)\n",
            "Requirement already satisfied: tensorflow-io-gcs-filesystem>=0.21.0 in /usr/local/lib/python3.7/dist-packages (from tensorflow) (0.22.0)\n",
            "Requirement already satisfied: numpy>=1.14.5 in /usr/local/lib/python3.7/dist-packages (from tensorflow) (1.19.5)\n",
            "Requirement already satisfied: libclang>=9.0.1 in /usr/local/lib/python3.7/dist-packages (from tensorflow) (12.0.0)\n",
            "Requirement already satisfied: tensorflow-estimator<2.8,~=2.7.0rc0 in /usr/local/lib/python3.7/dist-packages (from tensorflow) (2.7.0)\n",
            "Requirement already satisfied: google-pasta>=0.1.1 in /usr/local/lib/python3.7/dist-packages (from tensorflow) (0.2.0)\n",
            "Requirement already satisfied: keras<2.8,>=2.7.0rc0 in /usr/local/lib/python3.7/dist-packages (from tensorflow) (2.7.0)\n",
            "Requirement already satisfied: astunparse>=1.6.0 in /usr/local/lib/python3.7/dist-packages (from tensorflow) (1.6.3)\n",
            "Requirement already satisfied: typing-extensions>=3.6.6 in /usr/local/lib/python3.7/dist-packages (from tensorflow) (3.10.0.2)\n",
            "Requirement already satisfied: tensorboard~=2.6 in /usr/local/lib/python3.7/dist-packages (from tensorflow) (2.7.0)\n",
            "Requirement already satisfied: wheel<1.0,>=0.32.0 in /usr/local/lib/python3.7/dist-packages (from tensorflow) (0.37.0)\n",
            "Requirement already satisfied: termcolor>=1.1.0 in /usr/local/lib/python3.7/dist-packages (from tensorflow) (1.1.0)\n",
            "Requirement already satisfied: absl-py>=0.4.0 in /usr/local/lib/python3.7/dist-packages (from tensorflow) (0.12.0)\n",
            "Requirement already satisfied: h5py>=2.9.0 in /usr/local/lib/python3.7/dist-packages (from tensorflow) (3.1.0)\n",
            "Requirement already satisfied: opt-einsum>=2.3.2 in /usr/local/lib/python3.7/dist-packages (from tensorflow) (3.3.0)\n",
            "Requirement already satisfied: wrapt>=1.11.0 in /usr/local/lib/python3.7/dist-packages (from tensorflow) (1.13.3)\n",
            "Requirement already satisfied: flatbuffers<3.0,>=1.12 in /usr/local/lib/python3.7/dist-packages (from tensorflow) (2.0)\n",
            "Requirement already satisfied: six>=1.12.0 in /usr/local/lib/python3.7/dist-packages (from tensorflow) (1.15.0)\n",
            "Requirement already satisfied: gast<0.5.0,>=0.2.1 in /usr/local/lib/python3.7/dist-packages (from tensorflow) (0.4.0)\n",
            "Requirement already satisfied: keras-preprocessing>=1.1.1 in /usr/local/lib/python3.7/dist-packages (from tensorflow) (1.1.2)\n",
            "Requirement already satisfied: grpcio<2.0,>=1.24.3 in /usr/local/lib/python3.7/dist-packages (from tensorflow) (1.42.0)\n",
            "Requirement already satisfied: cached-property in /usr/local/lib/python3.7/dist-packages (from h5py>=2.9.0->tensorflow) (1.5.2)\n",
            "Requirement already satisfied: setuptools>=41.0.0 in /usr/local/lib/python3.7/dist-packages (from tensorboard~=2.6->tensorflow) (57.4.0)\n",
            "Requirement already satisfied: requests<3,>=2.21.0 in /usr/local/lib/python3.7/dist-packages (from tensorboard~=2.6->tensorflow) (2.23.0)\n",
            "Requirement already satisfied: tensorboard-data-server<0.7.0,>=0.6.0 in /usr/local/lib/python3.7/dist-packages (from tensorboard~=2.6->tensorflow) (0.6.1)\n",
            "Requirement already satisfied: markdown>=2.6.8 in /usr/local/lib/python3.7/dist-packages (from tensorboard~=2.6->tensorflow) (3.3.6)\n",
            "Requirement already satisfied: werkzeug>=0.11.15 in /usr/local/lib/python3.7/dist-packages (from tensorboard~=2.6->tensorflow) (1.0.1)\n",
            "Requirement already satisfied: google-auth<3,>=1.6.3 in /usr/local/lib/python3.7/dist-packages (from tensorboard~=2.6->tensorflow) (1.35.0)\n",
            "Requirement already satisfied: google-auth-oauthlib<0.5,>=0.4.1 in /usr/local/lib/python3.7/dist-packages (from tensorboard~=2.6->tensorflow) (0.4.6)\n",
            "Requirement already satisfied: tensorboard-plugin-wit>=1.6.0 in /usr/local/lib/python3.7/dist-packages (from tensorboard~=2.6->tensorflow) (1.8.0)\n",
            "Requirement already satisfied: rsa<5,>=3.1.4 in /usr/local/lib/python3.7/dist-packages (from google-auth<3,>=1.6.3->tensorboard~=2.6->tensorflow) (4.8)\n",
            "Requirement already satisfied: pyasn1-modules>=0.2.1 in /usr/local/lib/python3.7/dist-packages (from google-auth<3,>=1.6.3->tensorboard~=2.6->tensorflow) (0.2.8)\n",
            "Requirement already satisfied: cachetools<5.0,>=2.0.0 in /usr/local/lib/python3.7/dist-packages (from google-auth<3,>=1.6.3->tensorboard~=2.6->tensorflow) (4.2.4)\n",
            "Requirement already satisfied: requests-oauthlib>=0.7.0 in /usr/local/lib/python3.7/dist-packages (from google-auth-oauthlib<0.5,>=0.4.1->tensorboard~=2.6->tensorflow) (1.3.0)\n",
            "Requirement already satisfied: importlib-metadata>=4.4 in /usr/local/lib/python3.7/dist-packages (from markdown>=2.6.8->tensorboard~=2.6->tensorflow) (4.8.2)\n",
            "Requirement already satisfied: zipp>=0.5 in /usr/local/lib/python3.7/dist-packages (from importlib-metadata>=4.4->markdown>=2.6.8->tensorboard~=2.6->tensorflow) (3.6.0)\n",
            "Requirement already satisfied: pyasn1<0.5.0,>=0.4.6 in /usr/local/lib/python3.7/dist-packages (from pyasn1-modules>=0.2.1->google-auth<3,>=1.6.3->tensorboard~=2.6->tensorflow) (0.4.8)\n",
            "Requirement already satisfied: idna<3,>=2.5 in /usr/local/lib/python3.7/dist-packages (from requests<3,>=2.21.0->tensorboard~=2.6->tensorflow) (2.10)\n",
            "Requirement already satisfied: chardet<4,>=3.0.2 in /usr/local/lib/python3.7/dist-packages (from requests<3,>=2.21.0->tensorboard~=2.6->tensorflow) (3.0.4)\n",
            "Requirement already satisfied: certifi>=2017.4.17 in /usr/local/lib/python3.7/dist-packages (from requests<3,>=2.21.0->tensorboard~=2.6->tensorflow) (2021.10.8)\n",
            "Requirement already satisfied: urllib3!=1.25.0,!=1.25.1,<1.26,>=1.21.1 in /usr/local/lib/python3.7/dist-packages (from requests<3,>=2.21.0->tensorboard~=2.6->tensorflow) (1.24.3)\n",
            "Requirement already satisfied: oauthlib>=3.0.0 in /usr/local/lib/python3.7/dist-packages (from requests-oauthlib>=0.7.0->google-auth-oauthlib<0.5,>=0.4.1->tensorboard~=2.6->tensorflow) (3.1.1)\n"
          ]
        }
      ],
      "source": [
        "!git clone https://github.com/MansaGroup/kanedama.git\n",
        "!pip install -r ./kanedama/datascience/requirements.txt && pip install tensorflow"
      ]
    },
    {
      "cell_type": "code",
      "execution_count": 2,
      "metadata": {
        "colab": {
          "base_uri": "https://localhost:8080/"
        },
        "id": "HV8rF90IGb75",
        "outputId": "aed56fc1-9896-4275-f17f-f8157206920a"
      },
      "outputs": [
        {
          "name": "stdout",
          "output_type": "stream",
          "text": [
            "3.7.12\n"
          ]
        }
      ],
      "source": [
        "from platform import python_version\n",
        "print(python_version())"
      ]
    },
    {
      "cell_type": "code",
      "execution_count": 3,
      "metadata": {
        "colab": {
          "base_uri": "https://localhost:8080/"
        },
        "id": "neIZy2-exPan",
        "outputId": "a2f2c5de-4496-40a7-8d7d-845d28538233"
      },
      "outputs": [
        {
          "name": "stdout",
          "output_type": "stream",
          "text": [
            "518229\n",
            "Total of Nans: 0\n"
          ]
        }
      ],
      "source": [
        "import pandas as pd\n",
        "import numpy as np \n",
        "import matplotlib.pylab as plt \n",
        "\n",
        "pd.options.mode.chained_assignment = None\n",
        "\n",
        "path = './kanedama/datascience/data'\n",
        "\n",
        "acc = pd.read_csv(path + '/accounts.csv')\n",
        "transac = pd.read_csv(path + '/transactions.csv')\n",
        "\n",
        "df = transac.merge(acc, left_on='account_id', right_on='id')\n",
        "#Not clear if duplicates are real ones. We may need transaction id for exemple \n",
        "#to assess duplicity. I decided to keep duplicated row.\n",
        "#dup = df.duplicated(subset=None, keep='first')\n",
        "#df = df[~dup]\n",
        "print(len(df))\n",
        "print('Total of Nans:', sum(sum(df.isna().values)))\n",
        "\n",
        "#cast dates to pd.date_time\n",
        "df.date = pd.to_datetime(df.date)\n",
        "df.update_date = pd.to_datetime(df.update_date)\n",
        "\n",
        "#unique update date for everyone\n",
        "assert len(np.unique(df.update_date)) == 1\n",
        "end_date = np.unique(df.update_date)[0]"
      ]
    },
    {
      "cell_type": "code",
      "execution_count": 4,
      "metadata": {
        "colab": {
          "base_uri": "https://localhost:8080/",
          "height": 206
        },
        "id": "Qki4xameiR6c",
        "outputId": "15b3e84f-23e0-47b6-edf3-87960cfa591d"
      },
      "outputs": [
        {
          "data": {
            "text/html": [
              "\n",
              "  <div id=\"df-eff72fbb-adc7-432d-9f58-c940bade4a44\">\n",
              "    <div class=\"colab-df-container\">\n",
              "      <div>\n",
              "<style scoped>\n",
              "    .dataframe tbody tr th:only-of-type {\n",
              "        vertical-align: middle;\n",
              "    }\n",
              "\n",
              "    .dataframe tbody tr th {\n",
              "        vertical-align: top;\n",
              "    }\n",
              "\n",
              "    .dataframe thead th {\n",
              "        text-align: right;\n",
              "    }\n",
              "</style>\n",
              "<table border=\"1\" class=\"dataframe\">\n",
              "  <thead>\n",
              "    <tr style=\"text-align: right;\">\n",
              "      <th></th>\n",
              "      <th>account_id</th>\n",
              "      <th>date</th>\n",
              "      <th>amount</th>\n",
              "      <th>id</th>\n",
              "      <th>balance</th>\n",
              "      <th>update_date</th>\n",
              "    </tr>\n",
              "  </thead>\n",
              "  <tbody>\n",
              "    <tr>\n",
              "      <th>0</th>\n",
              "      <td>0</td>\n",
              "      <td>2020-10-16</td>\n",
              "      <td>200.0</td>\n",
              "      <td>0</td>\n",
              "      <td>13.63</td>\n",
              "      <td>2021-07-02</td>\n",
              "    </tr>\n",
              "    <tr>\n",
              "      <th>1</th>\n",
              "      <td>0</td>\n",
              "      <td>2020-10-16</td>\n",
              "      <td>-192.0</td>\n",
              "      <td>0</td>\n",
              "      <td>13.63</td>\n",
              "      <td>2021-07-02</td>\n",
              "    </tr>\n",
              "    <tr>\n",
              "      <th>2</th>\n",
              "      <td>0</td>\n",
              "      <td>2020-10-16</td>\n",
              "      <td>200.0</td>\n",
              "      <td>0</td>\n",
              "      <td>13.63</td>\n",
              "      <td>2021-07-02</td>\n",
              "    </tr>\n",
              "    <tr>\n",
              "      <th>3</th>\n",
              "      <td>0</td>\n",
              "      <td>2020-10-16</td>\n",
              "      <td>-24.0</td>\n",
              "      <td>0</td>\n",
              "      <td>13.63</td>\n",
              "      <td>2021-07-02</td>\n",
              "    </tr>\n",
              "    <tr>\n",
              "      <th>4</th>\n",
              "      <td>0</td>\n",
              "      <td>2020-10-16</td>\n",
              "      <td>-50.0</td>\n",
              "      <td>0</td>\n",
              "      <td>13.63</td>\n",
              "      <td>2021-07-02</td>\n",
              "    </tr>\n",
              "  </tbody>\n",
              "</table>\n",
              "</div>\n",
              "      <button class=\"colab-df-convert\" onclick=\"convertToInteractive('df-eff72fbb-adc7-432d-9f58-c940bade4a44')\"\n",
              "              title=\"Convert this dataframe to an interactive table.\"\n",
              "              style=\"display:none;\">\n",
              "        \n",
              "  <svg xmlns=\"http://www.w3.org/2000/svg\" height=\"24px\"viewBox=\"0 0 24 24\"\n",
              "       width=\"24px\">\n",
              "    <path d=\"M0 0h24v24H0V0z\" fill=\"none\"/>\n",
              "    <path d=\"M18.56 5.44l.94 2.06.94-2.06 2.06-.94-2.06-.94-.94-2.06-.94 2.06-2.06.94zm-11 1L8.5 8.5l.94-2.06 2.06-.94-2.06-.94L8.5 2.5l-.94 2.06-2.06.94zm10 10l.94 2.06.94-2.06 2.06-.94-2.06-.94-.94-2.06-.94 2.06-2.06.94z\"/><path d=\"M17.41 7.96l-1.37-1.37c-.4-.4-.92-.59-1.43-.59-.52 0-1.04.2-1.43.59L10.3 9.45l-7.72 7.72c-.78.78-.78 2.05 0 2.83L4 21.41c.39.39.9.59 1.41.59.51 0 1.02-.2 1.41-.59l7.78-7.78 2.81-2.81c.8-.78.8-2.07 0-2.86zM5.41 20L4 18.59l7.72-7.72 1.47 1.35L5.41 20z\"/>\n",
              "  </svg>\n",
              "      </button>\n",
              "      \n",
              "  <style>\n",
              "    .colab-df-container {\n",
              "      display:flex;\n",
              "      flex-wrap:wrap;\n",
              "      gap: 12px;\n",
              "    }\n",
              "\n",
              "    .colab-df-convert {\n",
              "      background-color: #E8F0FE;\n",
              "      border: none;\n",
              "      border-radius: 50%;\n",
              "      cursor: pointer;\n",
              "      display: none;\n",
              "      fill: #1967D2;\n",
              "      height: 32px;\n",
              "      padding: 0 0 0 0;\n",
              "      width: 32px;\n",
              "    }\n",
              "\n",
              "    .colab-df-convert:hover {\n",
              "      background-color: #E2EBFA;\n",
              "      box-shadow: 0px 1px 2px rgba(60, 64, 67, 0.3), 0px 1px 3px 1px rgba(60, 64, 67, 0.15);\n",
              "      fill: #174EA6;\n",
              "    }\n",
              "\n",
              "    [theme=dark] .colab-df-convert {\n",
              "      background-color: #3B4455;\n",
              "      fill: #D2E3FC;\n",
              "    }\n",
              "\n",
              "    [theme=dark] .colab-df-convert:hover {\n",
              "      background-color: #434B5C;\n",
              "      box-shadow: 0px 1px 3px 1px rgba(0, 0, 0, 0.15);\n",
              "      filter: drop-shadow(0px 1px 2px rgba(0, 0, 0, 0.3));\n",
              "      fill: #FFFFFF;\n",
              "    }\n",
              "  </style>\n",
              "\n",
              "      <script>\n",
              "        const buttonEl =\n",
              "          document.querySelector('#df-eff72fbb-adc7-432d-9f58-c940bade4a44 button.colab-df-convert');\n",
              "        buttonEl.style.display =\n",
              "          google.colab.kernel.accessAllowed ? 'block' : 'none';\n",
              "\n",
              "        async function convertToInteractive(key) {\n",
              "          const element = document.querySelector('#df-eff72fbb-adc7-432d-9f58-c940bade4a44');\n",
              "          const dataTable =\n",
              "            await google.colab.kernel.invokeFunction('convertToInteractive',\n",
              "                                                     [key], {});\n",
              "          if (!dataTable) return;\n",
              "\n",
              "          const docLinkHtml = 'Like what you see? Visit the ' +\n",
              "            '<a target=\"_blank\" href=https://colab.research.google.com/notebooks/data_table.ipynb>data table notebook</a>'\n",
              "            + ' to learn more about interactive tables.';\n",
              "          element.innerHTML = '';\n",
              "          dataTable['output_type'] = 'display_data';\n",
              "          await google.colab.output.renderOutput(dataTable, element);\n",
              "          const docLink = document.createElement('div');\n",
              "          docLink.innerHTML = docLinkHtml;\n",
              "          element.appendChild(docLink);\n",
              "        }\n",
              "      </script>\n",
              "    </div>\n",
              "  </div>\n",
              "  "
            ],
            "text/plain": [
              "   account_id       date  amount  id  balance update_date\n",
              "0           0 2020-10-16   200.0   0    13.63  2021-07-02\n",
              "1           0 2020-10-16  -192.0   0    13.63  2021-07-02\n",
              "2           0 2020-10-16   200.0   0    13.63  2021-07-02\n",
              "3           0 2020-10-16   -24.0   0    13.63  2021-07-02\n",
              "4           0 2020-10-16   -50.0   0    13.63  2021-07-02"
            ]
          },
          "execution_count": 4,
          "metadata": {},
          "output_type": "execute_result"
        }
      ],
      "source": [
        "df.head()"
      ]
    },
    {
      "cell_type": "markdown",
      "metadata": {
        "id": "0DBUdyGnws48"
      },
      "source": [
        "**Train test split**\n",
        "\n",
        "I choose to leverage the relatively small sample buy using rolling windows along the history of each account. That is, we take a 180 days of history to predict the next 30 days outgoing value, i.e [T-180 : T[ ==> [T : T+30[.\n",
        "\n",
        "We keep the last 30 days as test period, with no overlap between train and test, to avoid lookahead bias. In addition we take the same test period (last 30 days before the balance date) to avoid biais between possibly correlated samples : say A and B are correlated somehow, but A has a long history until the 2021-07-02, B has an history until the 2021-04-02. The test period of B would be in the train period of A. In case of correlation, this could lead to a biais. With no further informations on the dataset, let's not take that risk.\n",
        "\n",
        "One pro of this approach is to artificially augment data sample number, however one clear cons is that we can't measure a model's performance on out-of-sample accounts. This is particularly problematic if we want to control for cold-start cases, where we encouter new accounts with no more than 180 days of history. We leave this issue for future improvements (and more datas). \n",
        "\n",
        "With this in mind, we choose to keep samples with at leat 240 days of history (180 + 30 for train, +30 for test period) and at least one transaction in the last 30 days before the update date.\n",
        "\n"
      ]
    },
    {
      "cell_type": "code",
      "execution_count": 9,
      "metadata": {
        "colab": {
          "base_uri": "https://localhost:8080/",
          "height": 299
        },
        "id": "RUAAaiXj7fNx",
        "outputId": "b2d2169e-6137-4023-8465-d2e366a64cf8"
      },
      "outputs": [
        {
          "data": {
            "text/plain": [
              "Text(0.5, 1.0, 'History length distribution')"
            ]
          },
          "execution_count": 9,
          "metadata": {},
          "output_type": "execute_result"
        },
        {
          "data": {
            "image/png": "[encoded data removed]",
            "text/plain": [
              "<Figure size 432x288 with 1 Axes>"
            ]
          },
          "metadata": {
            "needs_background": "light"
          },
          "output_type": "display_data"
        }
      ],
      "source": [
        "def cut(df)->list:\n",
        "    \"\"\"get list of df per account id\"\"\"\n",
        "    all_ids = []\n",
        "    for id in df.id.unique():\n",
        "        df_ = df[df.id==id]\n",
        "        all_ids.append(df_)\n",
        "    return all_ids\n",
        "    \n",
        "all_ids = cut(df)\n",
        "\n",
        "days = [(e.date.iloc[-1]-e.date.iloc[0]).days for e in all_ids]\n",
        "\n",
        "#check validity of samples per id + remove sparse historical data (let's say < 50 transactions)\n",
        "all_ids = [e for e in all_ids if (end_date-e.date.iloc[0]).days>=240 and \n",
        "           (end_date-e.date.iloc[-1]).days < 30 and \n",
        "           len(e)>50]\n",
        "\n",
        "plt.hist([(end_date-e.date.iloc[0]).days for e in all_ids],50)\n",
        "plt.title('History length distribution')"
      ]
    },
    {
      "cell_type": "markdown",
      "metadata": {
        "id": "E9Me0WeB1KrH"
      },
      "source": [
        "# **Features**\n",
        "\n",
        "**Timestamp**\n",
        "\n",
        "A first possible feature is a timestamp. However, we could not give it to the model as it is. One possible way to transform date values is cosine and sine transform, to leverage the periodicity of the year. A linear transform would be problematic here, as we want the end of the year to be very close of the start of the year. \n",
        "\n",
        "The nature of the data suggest a certain kind of periodicity (regular invoices, etc). Here we choose to underline the periodicity of the year as a default value, however one could improve this transform by choosing another period (e.g. month). This is left as future improvement.\n",
        "\n",
        "**Running balance**\n",
        "\n",
        "We use the final balance to recover the running balance during the year.\n",
        "\n",
        "**Amounts**\n",
        "\n",
        "We take the total amount per day, we create a column with positive amounts and one with negative amounts.\n",
        "\n",
        "**Format**\n",
        "\n",
        "We group all values per day (sum for amounts). This transform allows to process samples with fixed size, to \"sum-up\" the financial signals and reduce noise. This is a basic transform, to keep it simple. \n",
        "\n",
        "**However, it is not clear which level of granularity should be used here. Another possible way would be to leave the time series as they are (with padding if we need fixed size samples). This method could be used with neural network by assuming the unstructured side of the data. One more way would be to use a feature extraction library as [TsFresh](https://tsfresh.readthedocs.io/en/latest/) which extract statistical and structured features, that could be used by trees models for example. This process might be a good choice, even if this is not the chosen path here.**\n",
        "\n"
      ]
    },
    {
      "cell_type": "code",
      "execution_count": 10,
      "metadata": {
        "id": "smKtIlRDx37P"
      },
      "outputs": [],
      "source": [
        "def preprocess(df)->list:\n",
        "  \"\"\" take a list of dataframes and return train \n",
        "      & test samples with computed features\"\"\"\n",
        "  x = []\n",
        "  y = []\n",
        "  xt, yt = [], []\n",
        "\n",
        "  for sample in df:\n",
        "    starting_balance = sample.balance.iloc[0]-sample.amount.sum()\n",
        "    sample['running_balance'] = starting_balance + sample.amount.cumsum()\n",
        "    #take complete date range from start to end of a sample.\n",
        "    date_range = pd.DataFrame(pd.date_range(sample.date.iloc[0], \n",
        "                                            end_date)).set_index(0)\n",
        "    \n",
        "    sample.set_index(sample.date, inplace=True)\n",
        "    #join date_range with sample so that we have all days\n",
        "    #missing days in the sample will be filled with NaNs\n",
        "    sample = date_range.join(sample)\n",
        "    \n",
        "    #compute year timestamps\n",
        "    timestamp_s = sample.index.map(pd.Timestamp.timestamp)\n",
        "    day = 24*60*60\n",
        "    year = (365.2425)*day\n",
        "    sample['Year_sin'] = np.sin(timestamp_s * (2 * np.pi / year))\n",
        "    sample['Year_cos'] = np.cos(timestamp_s * (2 * np.pi / year))\n",
        "    #fill NaN running_balance with previous value\n",
        "    sample['running_balance'].fillna(method='ffill', inplace=True)\n",
        "    #fill NaN amount with 0 \n",
        "    sample['amount'].fillna(0, inplace=True)\n",
        "    #compute & group-by positive and negative amounts\n",
        "    amounts_pos = sample.copy(deep=True)\n",
        "    amounts_neg = sample.copy(deep=True)\n",
        "    amounts_pos.amount[amounts_pos.amount<0] = 0\n",
        "    amounts_neg.amount[amounts_neg.amount>0] = 0\n",
        "    amounts_pos = amounts_pos.groupby(amounts_pos.index).sum().amount\n",
        "    amounts_neg = amounts_neg.groupby(amounts_neg.index).sum().amount\n",
        "    amounts = sample.groupby(sample.index).sum().amount\n",
        "    #for each day, group-by and take last value (valid for all columns except amount, amount_pos and amount_neg)\n",
        "    sample = sample.groupby(sample.index).last()\n",
        "    #replace amounts columns by grouped & summed values\n",
        "    sample['amount'] = amounts\n",
        "    sample['amount_pos'] = amounts_pos\n",
        "    sample['amount_neg'] = amounts_neg\n",
        "\n",
        "    #train/test split with rolling windows (step of 5 days)\n",
        "    for i in range(30*6, len(sample)-60, 5):\n",
        "        x.append(sample.iloc[i-180:i])\n",
        "        y.append(sample.iloc[i:i+30])\n",
        "    #take last month as a test period\n",
        "    xt.append(sample.iloc[i-180+30:i+30])\n",
        "    yt.append(sample.iloc[i+30:i+60])\n",
        "    \n",
        "    #sanity check \n",
        "    assert all([len(e)==180 for e in x])\n",
        "    assert all([len(e)==180 for e in xt])\n",
        "    assert all([len(e)==30 for e in y])\n",
        "    assert all([len(e)==30 for e in yt])\n",
        "\n",
        "  return x, y, xt, yt\n",
        "\n",
        "x, y, xt, yt = preprocess(all_ids)"
      ]
    },
    {
      "cell_type": "code",
      "execution_count": 11,
      "metadata": {
        "colab": {
          "base_uri": "https://localhost:8080/",
          "height": 206
        },
        "id": "jmhuoKfkXYpM",
        "outputId": "51a31633-3197-475d-a250-0485255350bd"
      },
      "outputs": [
        {
          "data": {
            "text/html": [
              "\n",
              "  <div id=\"df-69e6054f-0671-4522-97a7-c8abf8ccc576\">\n",
              "    <div class=\"colab-df-container\">\n",
              "      <div>\n",
              "<style scoped>\n",
              "    .dataframe tbody tr th:only-of-type {\n",
              "        vertical-align: middle;\n",
              "    }\n",
              "\n",
              "    .dataframe tbody tr th {\n",
              "        vertical-align: top;\n",
              "    }\n",
              "\n",
              "    .dataframe thead th {\n",
              "        text-align: right;\n",
              "    }\n",
              "</style>\n",
              "<table border=\"1\" class=\"dataframe\">\n",
              "  <thead>\n",
              "    <tr style=\"text-align: right;\">\n",
              "      <th></th>\n",
              "      <th>account_id</th>\n",
              "      <th>date</th>\n",
              "      <th>amount</th>\n",
              "      <th>id</th>\n",
              "      <th>balance</th>\n",
              "      <th>update_date</th>\n",
              "      <th>running_balance</th>\n",
              "      <th>Year_sin</th>\n",
              "      <th>Year_cos</th>\n",
              "      <th>amount_pos</th>\n",
              "      <th>amount_neg</th>\n",
              "    </tr>\n",
              "  </thead>\n",
              "  <tbody>\n",
              "    <tr>\n",
              "      <th>2020-10-16</th>\n",
              "      <td>0.0</td>\n",
              "      <td>2020-10-16</td>\n",
              "      <td>3086.00</td>\n",
              "      <td>0.0</td>\n",
              "      <td>13.63</td>\n",
              "      <td>2021-07-02</td>\n",
              "      <td>3101.84</td>\n",
              "      <td>-0.967141</td>\n",
              "      <td>0.254241</td>\n",
              "      <td>3400.0</td>\n",
              "      <td>-314.00</td>\n",
              "    </tr>\n",
              "    <tr>\n",
              "      <th>2020-10-17</th>\n",
              "      <td>0.0</td>\n",
              "      <td>2020-10-17</td>\n",
              "      <td>-3079.50</td>\n",
              "      <td>0.0</td>\n",
              "      <td>13.63</td>\n",
              "      <td>2021-07-02</td>\n",
              "      <td>22.34</td>\n",
              "      <td>-0.962624</td>\n",
              "      <td>0.270840</td>\n",
              "      <td>0.0</td>\n",
              "      <td>-3079.50</td>\n",
              "    </tr>\n",
              "    <tr>\n",
              "      <th>2020-10-18</th>\n",
              "      <td>0.0</td>\n",
              "      <td>2020-10-18</td>\n",
              "      <td>0.00</td>\n",
              "      <td>0.0</td>\n",
              "      <td>13.63</td>\n",
              "      <td>2021-07-02</td>\n",
              "      <td>22.34</td>\n",
              "      <td>-0.957823</td>\n",
              "      <td>0.287359</td>\n",
              "      <td>0.0</td>\n",
              "      <td>0.00</td>\n",
              "    </tr>\n",
              "    <tr>\n",
              "      <th>2020-10-19</th>\n",
              "      <td>0.0</td>\n",
              "      <td>2020-10-19</td>\n",
              "      <td>46.79</td>\n",
              "      <td>0.0</td>\n",
              "      <td>13.63</td>\n",
              "      <td>2021-07-02</td>\n",
              "      <td>69.13</td>\n",
              "      <td>-0.952738</td>\n",
              "      <td>0.303793</td>\n",
              "      <td>100.0</td>\n",
              "      <td>-53.21</td>\n",
              "    </tr>\n",
              "    <tr>\n",
              "      <th>2020-10-20</th>\n",
              "      <td>NaN</td>\n",
              "      <td>NaT</td>\n",
              "      <td>0.00</td>\n",
              "      <td>NaN</td>\n",
              "      <td>NaN</td>\n",
              "      <td>NaT</td>\n",
              "      <td>69.13</td>\n",
              "      <td>-0.947371</td>\n",
              "      <td>0.320137</td>\n",
              "      <td>0.0</td>\n",
              "      <td>0.00</td>\n",
              "    </tr>\n",
              "  </tbody>\n",
              "</table>\n",
              "</div>\n",
              "      <button class=\"colab-df-convert\" onclick=\"convertToInteractive('df-69e6054f-0671-4522-97a7-c8abf8ccc576')\"\n",
              "              title=\"Convert this dataframe to an interactive table.\"\n",
              "              style=\"display:none;\">\n",
              "        \n",
              "  <svg xmlns=\"http://www.w3.org/2000/svg\" height=\"24px\"viewBox=\"0 0 24 24\"\n",
              "       width=\"24px\">\n",
              "    <path d=\"M0 0h24v24H0V0z\" fill=\"none\"/>\n",
              "    <path d=\"M18.56 5.44l.94 2.06.94-2.06 2.06-.94-2.06-.94-.94-2.06-.94 2.06-2.06.94zm-11 1L8.5 8.5l.94-2.06 2.06-.94-2.06-.94L8.5 2.5l-.94 2.06-2.06.94zm10 10l.94 2.06.94-2.06 2.06-.94-2.06-.94-.94-2.06-.94 2.06-2.06.94z\"/><path d=\"M17.41 7.96l-1.37-1.37c-.4-.4-.92-.59-1.43-.59-.52 0-1.04.2-1.43.59L10.3 9.45l-7.72 7.72c-.78.78-.78 2.05 0 2.83L4 21.41c.39.39.9.59 1.41.59.51 0 1.02-.2 1.41-.59l7.78-7.78 2.81-2.81c.8-.78.8-2.07 0-2.86zM5.41 20L4 18.59l7.72-7.72 1.47 1.35L5.41 20z\"/>\n",
              "  </svg>\n",
              "      </button>\n",
              "      \n",
              "  <style>\n",
              "    .colab-df-container {\n",
              "      display:flex;\n",
              "      flex-wrap:wrap;\n",
              "      gap: 12px;\n",
              "    }\n",
              "\n",
              "    .colab-df-convert {\n",
              "      background-color: #E8F0FE;\n",
              "      border: none;\n",
              "      border-radius: 50%;\n",
              "      cursor: pointer;\n",
              "      display: none;\n",
              "      fill: #1967D2;\n",
              "      height: 32px;\n",
              "      padding: 0 0 0 0;\n",
              "      width: 32px;\n",
              "    }\n",
              "\n",
              "    .colab-df-convert:hover {\n",
              "      background-color: #E2EBFA;\n",
              "      box-shadow: 0px 1px 2px rgba(60, 64, 67, 0.3), 0px 1px 3px 1px rgba(60, 64, 67, 0.15);\n",
              "      fill: #174EA6;\n",
              "    }\n",
              "\n",
              "    [theme=dark] .colab-df-convert {\n",
              "      background-color: #3B4455;\n",
              "      fill: #D2E3FC;\n",
              "    }\n",
              "\n",
              "    [theme=dark] .colab-df-convert:hover {\n",
              "      background-color: #434B5C;\n",
              "      box-shadow: 0px 1px 3px 1px rgba(0, 0, 0, 0.15);\n",
              "      filter: drop-shadow(0px 1px 2px rgba(0, 0, 0, 0.3));\n",
              "      fill: #FFFFFF;\n",
              "    }\n",
              "  </style>\n",
              "\n",
              "      <script>\n",
              "        const buttonEl =\n",
              "          document.querySelector('#df-69e6054f-0671-4522-97a7-c8abf8ccc576 button.colab-df-convert');\n",
              "        buttonEl.style.display =\n",
              "          google.colab.kernel.accessAllowed ? 'block' : 'none';\n",
              "\n",
              "        async function convertToInteractive(key) {\n",
              "          const element = document.querySelector('#df-69e6054f-0671-4522-97a7-c8abf8ccc576');\n",
              "          const dataTable =\n",
              "            await google.colab.kernel.invokeFunction('convertToInteractive',\n",
              "                                                     [key], {});\n",
              "          if (!dataTable) return;\n",
              "\n",
              "          const docLinkHtml = 'Like what you see? Visit the ' +\n",
              "            '<a target=\"_blank\" href=https://colab.research.google.com/notebooks/data_table.ipynb>data table notebook</a>'\n",
              "            + ' to learn more about interactive tables.';\n",
              "          element.innerHTML = '';\n",
              "          dataTable['output_type'] = 'display_data';\n",
              "          await google.colab.output.renderOutput(dataTable, element);\n",
              "          const docLink = document.createElement('div');\n",
              "          docLink.innerHTML = docLinkHtml;\n",
              "          element.appendChild(docLink);\n",
              "        }\n",
              "      </script>\n",
              "    </div>\n",
              "  </div>\n",
              "  "
            ],
            "text/plain": [
              "            account_id       date   amount  ...  Year_cos  amount_pos amount_neg\n",
              "2020-10-16         0.0 2020-10-16  3086.00  ...  0.254241      3400.0    -314.00\n",
              "2020-10-17         0.0 2020-10-17 -3079.50  ...  0.270840         0.0   -3079.50\n",
              "2020-10-18         0.0 2020-10-18     0.00  ...  0.287359         0.0       0.00\n",
              "2020-10-19         0.0 2020-10-19    46.79  ...  0.303793       100.0     -53.21\n",
              "2020-10-20         NaN        NaT     0.00  ...  0.320137         0.0       0.00\n",
              "\n",
              "[5 rows x 11 columns]"
            ]
          },
          "execution_count": 11,
          "metadata": {},
          "output_type": "execute_result"
        }
      ],
      "source": [
        "x[0].head()"
      ]
    },
    {
      "cell_type": "code",
      "execution_count": 12,
      "metadata": {
        "id": "i2m4JZpheCM0"
      },
      "outputs": [],
      "source": [
        "#we take our usefull features\n",
        "x_ = [e[['Year_sin', 'Year_cos', 'amount', 'running_balance', 'amount_pos', 'amount_neg']] for e in x]\n",
        "y_ = [e[['amount_neg']] for e in y]\n",
        "x_t = [e[['Year_sin', 'Year_cos', 'amount', 'running_balance', 'amount_pos', 'amount_neg']] for e in xt]\n",
        "y_t = [e[['amount_neg']] for e in yt]"
      ]
    },
    {
      "cell_type": "code",
      "execution_count": 13,
      "metadata": {
        "colab": {
          "base_uri": "https://localhost:8080/",
          "height": 206
        },
        "id": "5IUKPxfwoYEu",
        "outputId": "1601eb0a-1e11-414d-ee7f-be8bf18670a9"
      },
      "outputs": [
        {
          "data": {
            "text/html": [
              "\n",
              "  <div id=\"df-5afca52e-1918-48b4-b25f-56384112afdf\">\n",
              "    <div class=\"colab-df-container\">\n",
              "      <div>\n",
              "<style scoped>\n",
              "    .dataframe tbody tr th:only-of-type {\n",
              "        vertical-align: middle;\n",
              "    }\n",
              "\n",
              "    .dataframe tbody tr th {\n",
              "        vertical-align: top;\n",
              "    }\n",
              "\n",
              "    .dataframe thead th {\n",
              "        text-align: right;\n",
              "    }\n",
              "</style>\n",
              "<table border=\"1\" class=\"dataframe\">\n",
              "  <thead>\n",
              "    <tr style=\"text-align: right;\">\n",
              "      <th></th>\n",
              "      <th>Year_sin</th>\n",
              "      <th>Year_cos</th>\n",
              "      <th>amount</th>\n",
              "      <th>running_balance</th>\n",
              "      <th>amount_pos</th>\n",
              "      <th>amount_neg</th>\n",
              "    </tr>\n",
              "  </thead>\n",
              "  <tbody>\n",
              "    <tr>\n",
              "      <th>2020-10-21</th>\n",
              "      <td>-0.941724</td>\n",
              "      <td>0.336386</td>\n",
              "      <td>-17.41</td>\n",
              "      <td>51.72</td>\n",
              "      <td>0.0</td>\n",
              "      <td>-17.41</td>\n",
              "    </tr>\n",
              "    <tr>\n",
              "      <th>2020-10-22</th>\n",
              "      <td>-0.935798</td>\n",
              "      <td>0.352536</td>\n",
              "      <td>0.00</td>\n",
              "      <td>51.72</td>\n",
              "      <td>0.0</td>\n",
              "      <td>0.00</td>\n",
              "    </tr>\n",
              "    <tr>\n",
              "      <th>2020-10-23</th>\n",
              "      <td>-0.929595</td>\n",
              "      <td>0.368582</td>\n",
              "      <td>482.50</td>\n",
              "      <td>534.22</td>\n",
              "      <td>707.0</td>\n",
              "      <td>-224.50</td>\n",
              "    </tr>\n",
              "    <tr>\n",
              "      <th>2020-10-24</th>\n",
              "      <td>-0.923118</td>\n",
              "      <td>0.384518</td>\n",
              "      <td>-22.00</td>\n",
              "      <td>512.22</td>\n",
              "      <td>0.0</td>\n",
              "      <td>-22.00</td>\n",
              "    </tr>\n",
              "    <tr>\n",
              "      <th>2020-10-25</th>\n",
              "      <td>-0.916367</td>\n",
              "      <td>0.400340</td>\n",
              "      <td>-115.75</td>\n",
              "      <td>396.47</td>\n",
              "      <td>0.0</td>\n",
              "      <td>-115.75</td>\n",
              "    </tr>\n",
              "  </tbody>\n",
              "</table>\n",
              "</div>\n",
              "      <button class=\"colab-df-convert\" onclick=\"convertToInteractive('df-5afca52e-1918-48b4-b25f-56384112afdf')\"\n",
              "              title=\"Convert this dataframe to an interactive table.\"\n",
              "              style=\"display:none;\">\n",
              "        \n",
              "  <svg xmlns=\"http://www.w3.org/2000/svg\" height=\"24px\"viewBox=\"0 0 24 24\"\n",
              "       width=\"24px\">\n",
              "    <path d=\"M0 0h24v24H0V0z\" fill=\"none\"/>\n",
              "    <path d=\"M18.56 5.44l.94 2.06.94-2.06 2.06-.94-2.06-.94-.94-2.06-.94 2.06-2.06.94zm-11 1L8.5 8.5l.94-2.06 2.06-.94-2.06-.94L8.5 2.5l-.94 2.06-2.06.94zm10 10l.94 2.06.94-2.06 2.06-.94-2.06-.94-.94-2.06-.94 2.06-2.06.94z\"/><path d=\"M17.41 7.96l-1.37-1.37c-.4-.4-.92-.59-1.43-.59-.52 0-1.04.2-1.43.59L10.3 9.45l-7.72 7.72c-.78.78-.78 2.05 0 2.83L4 21.41c.39.39.9.59 1.41.59.51 0 1.02-.2 1.41-.59l7.78-7.78 2.81-2.81c.8-.78.8-2.07 0-2.86zM5.41 20L4 18.59l7.72-7.72 1.47 1.35L5.41 20z\"/>\n",
              "  </svg>\n",
              "      </button>\n",
              "      \n",
              "  <style>\n",
              "    .colab-df-container {\n",
              "      display:flex;\n",
              "      flex-wrap:wrap;\n",
              "      gap: 12px;\n",
              "    }\n",
              "\n",
              "    .colab-df-convert {\n",
              "      background-color: #E8F0FE;\n",
              "      border: none;\n",
              "      border-radius: 50%;\n",
              "      cursor: pointer;\n",
              "      display: none;\n",
              "      fill: #1967D2;\n",
              "      height: 32px;\n",
              "      padding: 0 0 0 0;\n",
              "      width: 32px;\n",
              "    }\n",
              "\n",
              "    .colab-df-convert:hover {\n",
              "      background-color: #E2EBFA;\n",
              "      box-shadow: 0px 1px 2px rgba(60, 64, 67, 0.3), 0px 1px 3px 1px rgba(60, 64, 67, 0.15);\n",
              "      fill: #174EA6;\n",
              "    }\n",
              "\n",
              "    [theme=dark] .colab-df-convert {\n",
              "      background-color: #3B4455;\n",
              "      fill: #D2E3FC;\n",
              "    }\n",
              "\n",
              "    [theme=dark] .colab-df-convert:hover {\n",
              "      background-color: #434B5C;\n",
              "      box-shadow: 0px 1px 3px 1px rgba(0, 0, 0, 0.15);\n",
              "      filter: drop-shadow(0px 1px 2px rgba(0, 0, 0, 0.3));\n",
              "      fill: #FFFFFF;\n",
              "    }\n",
              "  </style>\n",
              "\n",
              "      <script>\n",
              "        const buttonEl =\n",
              "          document.querySelector('#df-5afca52e-1918-48b4-b25f-56384112afdf button.colab-df-convert');\n",
              "        buttonEl.style.display =\n",
              "          google.colab.kernel.accessAllowed ? 'block' : 'none';\n",
              "\n",
              "        async function convertToInteractive(key) {\n",
              "          const element = document.querySelector('#df-5afca52e-1918-48b4-b25f-56384112afdf');\n",
              "          const dataTable =\n",
              "            await google.colab.kernel.invokeFunction('convertToInteractive',\n",
              "                                                     [key], {});\n",
              "          if (!dataTable) return;\n",
              "\n",
              "          const docLinkHtml = 'Like what you see? Visit the ' +\n",
              "            '<a target=\"_blank\" href=https://colab.research.google.com/notebooks/data_table.ipynb>data table notebook</a>'\n",
              "            + ' to learn more about interactive tables.';\n",
              "          element.innerHTML = '';\n",
              "          dataTable['output_type'] = 'display_data';\n",
              "          await google.colab.output.renderOutput(dataTable, element);\n",
              "          const docLink = document.createElement('div');\n",
              "          docLink.innerHTML = docLinkHtml;\n",
              "          element.appendChild(docLink);\n",
              "        }\n",
              "      </script>\n",
              "    </div>\n",
              "  </div>\n",
              "  "
            ],
            "text/plain": [
              "            Year_sin  Year_cos  amount  running_balance  amount_pos  amount_neg\n",
              "2020-10-21 -0.941724  0.336386  -17.41            51.72         0.0      -17.41\n",
              "2020-10-22 -0.935798  0.352536    0.00            51.72         0.0        0.00\n",
              "2020-10-23 -0.929595  0.368582  482.50           534.22       707.0     -224.50\n",
              "2020-10-24 -0.923118  0.384518  -22.00           512.22         0.0      -22.00\n",
              "2020-10-25 -0.916367  0.400340 -115.75           396.47         0.0     -115.75"
            ]
          },
          "execution_count": 13,
          "metadata": {},
          "output_type": "execute_result"
        }
      ],
      "source": [
        "x_[1].head()"
      ]
    },
    {
      "cell_type": "code",
      "execution_count": 14,
      "metadata": {
        "id": "fRvgDTdLeziE"
      },
      "outputs": [],
      "source": [
        "#we rename and cast list of dataframes to numpy arrays for convenience and speed (dimensions ==> (samples, timesteps, features))\n",
        "X_train_, X_test_, y_train_, y_test_ = np.array(x_), np.array(x_t), np.array(y_), np.array(y_t)"
      ]
    },
    {
      "cell_type": "code",
      "execution_count": 15,
      "metadata": {
        "colab": {
          "base_uri": "https://localhost:8080/"
        },
        "id": "E8kJOM8yyQB_",
        "outputId": "fc181337-68af-47a8-8005-6ccaed79463b"
      },
      "outputs": [
        {
          "name": "stdout",
          "output_type": "stream",
          "text": [
            "Index(['Year_sin', 'Year_cos', 'amount', 'running_balance', 'amount_pos',\n",
            "       'amount_neg'],\n",
            "      dtype='object')\n"
          ]
        }
      ],
      "source": [
        "print(x_t[0].columns)\n",
        "#we keep track of columns indexes\n",
        "AMOUNT_COL = x_t[0].columns.get_loc(\"amount\")\n",
        "BAL_COL = x_t[0].columns.get_loc(\"running_balance\")\n",
        "AMOUNT_POS_COL = x_t[0].columns.get_loc(\"amount_pos\")\n",
        "AMOUNT_NEG_COL = x_t[0].columns.get_loc(\"amount_neg\")"
      ]
    },
    {
      "cell_type": "markdown",
      "metadata": {
        "id": "aqZd9hVYGyaV"
      },
      "source": [
        "**Preprocessing features**\n",
        "\n",
        "As we choose here to use a neural network based model, we should preprocess numerical features for a stabilized and faster training. \n",
        "\n",
        "**Amount**\n",
        "\n",
        "Total amount per day could be negative of positive. It is natural to rescale this value by a standardization. We choose to remove extreme values by a simple rule (> or < mean +- 4*std). Test values are rescaled using train statistics."
      ]
    },
    {
      "cell_type": "code",
      "execution_count": 16,
      "metadata": {
        "colab": {
          "base_uri": "https://localhost:8080/",
          "height": 316
        },
        "id": "mzvEwZhFe5an",
        "outputId": "32515ddc-c924-418b-fff6-d486f9f28c94"
      },
      "outputs": [
        {
          "name": "stdout",
          "output_type": "stream",
          "text": [
            "-7.719692290361408 666.4167866140283 -5611.383115035036 5613.770325384254\n"
          ]
        },
        {
          "data": {
            "text/plain": [
              "Text(0.5, 1.0, 'Standardized amounts histogram')"
            ]
          },
          "execution_count": 16,
          "metadata": {},
          "output_type": "execute_result"
        },
        {
          "data": {
            "image/png": "[encoded data removed]",
            "text/plain": [
              "<Figure size 432x288 with 1 Axes>"
            ]
          },
          "metadata": {
            "needs_background": "light"
          },
          "output_type": "display_data"
        }
      ],
      "source": [
        "#TOTAL AMOUNTS PROCESSING\n",
        "total_amount = [[x for x in e.amount.values] for e in x_]\n",
        "total_amount = np.concatenate(total_amount)\n",
        "\n",
        "#remove outliers\n",
        "total_amount = np.clip(total_amount, np.mean(total_amount)-4*np.std(total_amount),\n",
        "                           np.mean(total_amount)+4*np.std(total_amount))\n",
        "\n",
        "#get stats\n",
        "MEAN_AMOUNT = np.mean(total_amount)\n",
        "STD_AMOUNT = np.std(total_amount)\n",
        "\n",
        "#Keep stats for inference api\n",
        "print(MEAN_AMOUNT, STD_AMOUNT, np.min(total_amount), np.max(total_amount))\n",
        "\n",
        "def normalize_amount(x):\n",
        "    x = np.clip(x, np.min(total_amount), np.max(total_amount))\n",
        "    return ((x-MEAN_AMOUNT)/STD_AMOUNT)\n",
        "\n",
        "X_train_[:,:,AMOUNT_COL] = normalize_amount(X_train_[:,:,AMOUNT_COL])\n",
        "X_test_[:,:,AMOUNT_COL] = normalize_amount(X_test_[:,:,AMOUNT_COL])\n",
        "\n",
        "_ = plt.hist(X_test_[:,:,AMOUNT_COL].reshape(-1,), 100)\n",
        "plt.title('Standardized amounts histogram')"
      ]
    },
    {
      "cell_type": "markdown",
      "metadata": {
        "id": "aFDMf5mjly3s"
      },
      "source": [
        "**Positive  and negative amounts**\n",
        "\n",
        "Positive and negative amounts are log-normal distributed. We therefore apply a log transform to obtain normal distributed data. This allows to follow an additive and symmetric scale (and reduces scale). We choose to keep the value 0 as a special case, as it has a meaning here.\n",
        "\n",
        "After log transform and standardization (for the same reason as above), we shift the distributions (by their min) to keep 0 as the lowest possible values."
      ]
    },
    {
      "cell_type": "code",
      "execution_count": 17,
      "metadata": {
        "colab": {
          "base_uri": "https://localhost:8080/",
          "height": 299
        },
        "id": "cHvYmWLNV3DL",
        "outputId": "be0e5aa8-573a-4702-c51b-73b8ff137c0d"
      },
      "outputs": [
        {
          "data": {
            "text/plain": [
              "Text(0.5, 1.0, 'Log transformed positive amounts')"
            ]
          },
          "execution_count": 17,
          "metadata": {},
          "output_type": "execute_result"
        },
        {
          "data": {
            "image/png": "[encoded data removed]",
            "text/plain": [
              "<Figure size 432x288 with 1 Axes>"
            ]
          },
          "metadata": {
            "needs_background": "light"
          },
          "output_type": "display_data"
        }
      ],
      "source": [
        "total_amount_pos = [[x for x in e.amount_pos.values if x > 0] for e in x_t]\n",
        "total_amount_pos = np.concatenate(total_amount_pos)\n",
        "_ = plt.hist(np.log(total_amount_pos.reshape(-1,)), 100, alpha=0.5, label='x')\n",
        "plt.title('Log transformed positive amounts')"
      ]
    },
    {
      "cell_type": "code",
      "execution_count": 18,
      "metadata": {
        "colab": {
          "base_uri": "https://localhost:8080/",
          "height": 299
        },
        "id": "V9vguY2Qji90",
        "outputId": "48b9af84-22aa-4aac-be36-4b9683738f15"
      },
      "outputs": [
        {
          "name": "stdout",
          "output_type": "stream",
          "text": [
            "5.347356690940917 1.9899508215999484 -4.012087214365754 -2.6364995576168626 13.021652037560614\n"
          ]
        },
        {
          "data": {
            "image/png": "[encoded data removed]",
            "text/plain": [
              "<Figure size 432x288 with 1 Axes>"
            ]
          },
          "metadata": {
            "needs_background": "light"
          },
          "output_type": "display_data"
        }
      ],
      "source": [
        "#POSITIVE AMOUNTS PROCESSING\n",
        "total_amount_pos = [[x for x in e.amount_pos.values if x > 0] for e in x_]\n",
        "total_amount_pos = np.concatenate(total_amount_pos)\n",
        "#log transform\n",
        "total_amount_pos = np.log(total_amount_pos)\n",
        "#remove outliers\n",
        "total_amount_pos = np.clip(total_amount_pos, np.mean(total_amount_pos)-4*np.std(total_amount_pos),\n",
        "                           np.mean(total_amount_pos)+4*np.std(total_amount_pos))\n",
        "\n",
        "#get statistics\n",
        "MEAN_AMOUNT_POS = np.mean(total_amount_pos)\n",
        "STD_AMOUNT_POS = np.std(total_amount_pos)\n",
        "transformed_pos = ((total_amount_pos)-MEAN_AMOUNT_POS)/STD_AMOUNT_POS\n",
        "MIN_AMOUNT_POS = np.min(transformed_pos)\n",
        "\n",
        "#track stats for inference api\n",
        "print(MEAN_AMOUNT_POS, STD_AMOUNT_POS, MIN_AMOUNT_POS, np.min(total_amount_pos), np.max(total_amount_pos))\n",
        "\n",
        "def normalize_amount_pos(x):\n",
        "    x = np.log(x)\n",
        "    x = np.clip(x, np.min(total_amount_pos), np.max(total_amount_pos))\n",
        "    return ((x-MEAN_AMOUNT_POS)/STD_AMOUNT_POS)-MIN_AMOUNT_POS\n",
        "\n",
        "#process train and test values\n",
        "a = X_train_[:,:,AMOUNT_POS_COL]\n",
        "idx_ = np.where(a!=0)\n",
        "a[idx_]= normalize_amount_pos(a[idx_])\n",
        "X_train_[:,:,AMOUNT_COL] = a\n",
        "\n",
        "a = X_test_[:,:,AMOUNT_POS_COL]\n",
        "idx_ = np.where(a!=0)\n",
        "a[idx_]= normalize_amount_pos(a[idx_])\n",
        "X_test_[:,:,AMOUNT_POS_COL] = a\n",
        "\n",
        "plot_values = X_train_[:,:,AMOUNT_POS_COL]\n",
        "plot_values = plot_values[plot_values>0]\n",
        "plt.hist(plot_values.reshape(-1,), 100, alpha=0.5, label='x')\n",
        "plt.title('Log transformed, standardized and shifted positive amounts - train')\n",
        "plt.show()"
      ]
    },
    {
      "cell_type": "code",
      "execution_count": 19,
      "metadata": {
        "colab": {
          "base_uri": "https://localhost:8080/",
          "height": 299
        },
        "id": "l9Xy6_Vij-WW",
        "outputId": "5a3750a4-6a6d-44c8-8162-3585f8799880"
      },
      "outputs": [
        {
          "name": "stdout",
          "output_type": "stream",
          "text": [
            "4.386852976026014 1.8165732026281949 -4.009683112954072 -2.8970299179971537 11.66890882011515\n"
          ]
        },
        {
          "data": {
            "image/png": "[encoded data removed]",
            "text/plain": [
              "<Figure size 432x288 with 1 Axes>"
            ]
          },
          "metadata": {
            "needs_background": "light"
          },
          "output_type": "display_data"
        }
      ],
      "source": [
        "#PREPROCESS NEGATIVE AMOUNTS\n",
        "total_amount_neg = [[x for x in e.amount_neg.values if x < 0] for e in x_]\n",
        "total_amount_neg = -np.concatenate(total_amount_neg)\n",
        "\n",
        "#log transform\n",
        "total_amount_neg = np.log(total_amount_neg)\n",
        "#remove outliers\n",
        "total_amount_neg = np.clip(total_amount_neg, np.mean(total_amount_neg)-4*np.std(total_amount_neg),\n",
        "                           np.mean(total_amount_neg)+4*np.std(total_amount_neg))\n",
        "\n",
        "#get statistics\n",
        "MEAN_AMOUNT_NEG = np.mean(total_amount_neg)\n",
        "STD_AMOUNT_NEG = np.std(total_amount_neg)\n",
        "transfor_neg = ((total_amount_neg)-MEAN_AMOUNT_NEG)/STD_AMOUNT_NEG\n",
        "MIN_AMOUNT_NEG = np.min(transfor_neg)\n",
        "\n",
        "print(MEAN_AMOUNT_NEG, STD_AMOUNT_NEG, MIN_AMOUNT_NEG, np.min(total_amount_neg), np.max(total_amount_neg))\n",
        "\n",
        "def normalize_amount_neg(x):\n",
        "    x = np.log(-x)\n",
        "    x = np.clip(x, np.min(total_amount_neg), np.max(total_amount_neg))\n",
        "    return ((x-MEAN_AMOUNT_NEG)/STD_AMOUNT_NEG)-MIN_AMOUNT_NEG\n",
        "\n",
        "#preprocess train and test values\n",
        "a = X_train_[:,:,AMOUNT_NEG_COL]\n",
        "idx_ = np.where(a!=0)\n",
        "a[idx_]= normalize_amount_neg(a[idx_])\n",
        "X_train_[:,:,AMOUNT_NEG_COL] = a\n",
        "\n",
        "a = X_test_[:,:,AMOUNT_NEG_COL]\n",
        "idx_ = np.where(a!=0)\n",
        "a[idx_]= normalize_amount_neg(a[idx_])\n",
        "X_test_[:,:,AMOUNT_NEG_COL] = a\n",
        "\n",
        "plot_values = X_train_[:,:,AMOUNT_NEG_COL]\n",
        "plot_values = plot_values[plot_values>0]\n",
        "plt.hist(plot_values.reshape(-1,), 100, alpha=0.5, label='x')\n",
        "plt.title('Log transformed, standardized and shifted negative amounts - train')\n",
        "plt.show()"
      ]
    },
    {
      "cell_type": "markdown",
      "metadata": {
        "id": "7x_V4nGXrT_r"
      },
      "source": [
        "**Balance**\n",
        "\n",
        "The case of balance is trickier as a we could not obtain better shaped distribution as previous features. More complexe transformation as power transform (box-cox) didn't worked so well either. We end up by applying only a standardization."
      ]
    },
    {
      "cell_type": "code",
      "execution_count": 20,
      "metadata": {
        "colab": {
          "base_uri": "https://localhost:8080/",
          "height": 299
        },
        "id": "PAPLdXu6k0cA",
        "outputId": "89395121-6350-421f-c629-3773edc7d5c3"
      },
      "outputs": [
        {
          "name": "stdout",
          "output_type": "stream",
          "text": [
            "2706.542538999867 7781.311982603436 -41299.90674364914 47316.41503818177\n"
          ]
        },
        {
          "data": {
            "image/png": "[encoded data removed]",
            "text/plain": [
              "<Figure size 432x288 with 1 Axes>"
            ]
          },
          "metadata": {
            "needs_background": "light"
          },
          "output_type": "display_data"
        }
      ],
      "source": [
        "#COMPUTE STATS BALANCE PER DAY\n",
        "r_balance = [[x for x in e.running_balance.values] for e in x_t]\n",
        "r_balance = np.concatenate(r_balance)\n",
        "r_balance = np.clip(r_balance, np.mean(r_balance)-4*np.std(r_balance),\n",
        "                           np.mean(r_balance)+4*np.std(r_balance))\n",
        "\n",
        "MEAN_AMOUNT_BAL = np.mean(r_balance)\n",
        "STD_AMOUNT_BAL = np.std(r_balance)\n",
        "\n",
        "print(MEAN_AMOUNT_BAL, STD_AMOUNT_BAL, np.min(r_balance), np.max(r_balance))\n",
        "\n",
        "def normalize_bal(x):\n",
        "    x = np.clip(x, np.min(r_balance), np.max(r_balance))\n",
        "    return ((x-MEAN_AMOUNT_BAL)/STD_AMOUNT_BAL)\n",
        "\n",
        "X_train_[:,:,BAL_COL] = normalize_bal(X_train_[:,:,BAL_COL])\n",
        "X_test_[:,:,BAL_COL] = normalize_bal(X_test_[:,:,BAL_COL])\n",
        "\n",
        "\n",
        "plot_values = X_train_[:,:,BAL_COL]\n",
        "plt.hist(plot_values.reshape(-1,), 100, alpha=0.5, label='x')\n",
        "plt.title('Standardized balance - train')\n",
        "plt.show()"
      ]
    },
    {
      "cell_type": "markdown",
      "metadata": {
        "id": "ftr2cczgsXB1"
      },
      "source": [
        "**Target**\n",
        "\n",
        "We use the sum of negative amounts over a 30 days period (outgoing).\n",
        "We apply a log transform, and scale values between 0 and 1 as it seems to help for convergence. "
      ]
    },
    {
      "cell_type": "code",
      "execution_count": 21,
      "metadata": {
        "colab": {
          "base_uri": "https://localhost:8080/",
          "height": 299
        },
        "id": "3sRPeMsTui6M",
        "outputId": "fd911108-847b-4bcb-8e02-e75b618422ff"
      },
      "outputs": [
        {
          "data": {
            "text/plain": [
              "Text(0.5, 1.0, 'Transformed targets - train')"
            ]
          },
          "execution_count": 21,
          "metadata": {},
          "output_type": "execute_result"
        },
        {
          "data": {
            "image/png": "[encoded data removed]",
            "text/plain": [
              "<Figure size 432x288 with 1 Axes>"
            ]
          },
          "metadata": {
            "needs_background": "light"
          },
          "output_type": "display_data"
        }
      ],
      "source": [
        "y_train_, y_test_ = np.array(y_), np.array(y_t)\n",
        "y_train_, y_test_ = np.sum(y_train_, 1), np.sum(y_test_, 1)\n",
        "\n",
        "#transform train targets\n",
        "a = y_train_\n",
        "idx_ = np.where(a!=0)\n",
        "a[idx_]= np.log(-a[idx_])\n",
        "y_train_ = a \n",
        "\n",
        "#transform test targets\n",
        "a = y_test_\n",
        "idx_ = np.where(a!=0)\n",
        "a[idx_]= np.log(-a[idx_])\n",
        "y_test_ = a\n",
        "\n",
        "#normalize values\n",
        "MAX_LOG_TARGET = np.max(y_train_)\n",
        "y_train_ /= MAX_LOG_TARGET\n",
        "y_test_ /= MAX_LOG_TARGET\n",
        "\n",
        "see = y_train_\n",
        "_ = plt.hist(see[see>0].reshape(-1,), 100)\n",
        "plt.title('Transformed targets - train')"
      ]
    },
    {
      "cell_type": "code",
      "execution_count": 25,
      "metadata": {
        "id": "y1nojq1010nm"
      },
      "outputs": [],
      "source": [
        "#one last check \n",
        "assert np.sum(np.isnan(X_train_)) == 0\n",
        "assert np.sum(np.isnan(X_test_)) == 0\n",
        "assert np.sum(np.isnan(y_train_)) == 0\n",
        "assert np.sum(np.isnan(y_test_)) == 0"
      ]
    },
    {
      "cell_type": "markdown",
      "metadata": {
        "id": "Lgp5Og7Suzzc"
      },
      "source": [
        "# **Model**\n",
        "\n",
        "Regarding the stochastic nature of the problem, I thought that it is relevant to output upper and lower bounds on predictions. It is still possible to take the average (of the bounds) as a one point prediction. \n",
        "\n",
        "The chosen model is composed of several parts. \n",
        "\n",
        "**Architecture** : the model uses (multi-head) self-attention part in order to leverage dependencies between values at different timesteps. The output of this step is of a same dimension a its inputs. A residual connection is added at the end, so that, as the authors of ResNet say, \"*if identity mappings are optimal, the solvers\n",
        "may simply drive the weights of the multiple nonlinear layers toward zero to approach identity mappings [...] If the optimal function is closer to an identity\n",
        "mapping than to a zero mapping, it should be easier for the\n",
        "solver to find the perturbations with reference to an identity\n",
        "mapping, than to learn the function as a new one*\" (Deep Residual Learning for Image Recognition, Kaiming He & al.). \n",
        "\n",
        "Then, its outputs is simply flattened and transformed by several dense layers (multilayers perceptron).\n",
        "\n",
        "We kept all default initialization values, except for the final layer biais which outputs two values (upper and lower bounds). These values are initialized using the 0.1 and 0.9 quantile of the train distribution (keeping 80% of the values in the range). This initialization appears to help a lot in the first stages of training.\n",
        "\n",
        "**Loss**\n",
        "\n",
        "The loss is the one presented in *High-Quality Prediction Intervals for Deep Learning:\n",
        "A Distribution-Free, Ensembled Approach* (Algorithm 1).\n",
        "\n",
        "It is composed of two parts : one that penalizes the Mean Prediction Interval Width and one that penalizes data coverage (which is active only when less than (1-alpha) % is covered (one-sided loss).\n",
        "The idea : It is a minimization of the interval width under contraint of data coverage.\n",
        "\n",
        "This loss has in addition to the alpha a lambda parameter, controlling\n",
        "the importance of width vs. coverage.\n",
        "The soften parameter allows for a smoother convergence (we use the default value in the paper). \n",
        "Finally, the n parameter, is the batch_size and should be large enough to justify the approximation of the binomial law by the normal distribution, as stated in the paper (the total number of captured points is modeled as a binomial output, approximated by a normal distribution. This result is used in the right-hand side of the loss, cf eq. 14 page 4).\n",
        "\n",
        "**Other stuffs**\n",
        "Dropout : we use dropout which is a regularization technique (dropouts weights randomly).\n",
        "Optimizer : the chosen optimizer is the Adam optimizer. It is known for good empirical convergence properties on average, as it scales the learning rate during convergence (using running average of the second moment of the gradient) and uses momentum (running average of the first gradient moment) to stabilize the process.  \n",
        "Layers Dimension : Dimension are chosen here to be quite small and basics. No further hyper parameter search has been done here. \n",
        "Callback : We use an early stop on test data. \n",
        "\n",
        "**Other approach**\n",
        "\n",
        "It might be interesting here to test for an auto-regressive model (LSTM for example) in place or in conjunction with the present network architecture. Attention models are better at modelling one-to-one dependencies, and leveraging information over long-term structures. This might be particularly usefull if one sees the transactions as a long historical process without further reduction or sum-up (average over days, etc).\n",
        "\n"
      ]
    },
    {
      "cell_type": "code",
      "execution_count": 454,
      "metadata": {
        "colab": {
          "base_uri": "https://localhost:8080/"
        },
        "id": "z9Y1jgrLbDjt",
        "outputId": "09ff1efc-9898-4c44-9f79-723e7ba98c36"
      },
      "outputs": [
        {
          "name": "stdout",
          "output_type": "stream",
          "text": [
            "Model: \"model_16\"\n",
            "__________________________________________________________________________________________________\n",
            " Layer (type)                   Output Shape         Param #     Connected to                     \n",
            "==================================================================================================\n",
            " input_17 (InputLayer)          [(None, 180, 6)]     0           []                               \n",
            "                                                                                                  \n",
            " multi_head_attention_20 (Multi  (None, 180, 6)      6918        ['input_17[0][0]',               \n",
            " HeadAttention)                                                   'input_17[0][0]']               \n",
            "                                                                                                  \n",
            " dropout_68 (Dropout)           (None, 180, 6)       0           ['multi_head_attention_20[0][0]']\n",
            "                                                                                                  \n",
            " layer_normalization_20 (LayerN  (None, 180, 6)      12          ['dropout_68[0][0]']             \n",
            " ormalization)                                                                                    \n",
            "                                                                                                  \n",
            " tf.__operators__.add_20 (TFOpL  (None, 180, 6)      0           ['layer_normalization_20[0][0]', \n",
            " ambda)                                                           'input_17[0][0]']               \n",
            "                                                                                                  \n",
            " multi_head_attention_21 (Multi  (None, 180, 6)      6918        ['tf.__operators__.add_20[0][0]',\n",
            " HeadAttention)                                                   'tf.__operators__.add_20[0][0]']\n",
            "                                                                                                  \n",
            " dropout_69 (Dropout)           (None, 180, 6)       0           ['multi_head_attention_21[0][0]']\n",
            "                                                                                                  \n",
            " layer_normalization_21 (LayerN  (None, 180, 6)      12          ['dropout_69[0][0]']             \n",
            " ormalization)                                                                                    \n",
            "                                                                                                  \n",
            " tf.__operators__.add_21 (TFOpL  (None, 180, 6)      0           ['layer_normalization_21[0][0]', \n",
            " ambda)                                                           'tf.__operators__.add_20[0][0]']\n",
            "                                                                                                  \n",
            " flatten_16 (Flatten)           (None, 1080)         0           ['tf.__operators__.add_21[0][0]']\n",
            "                                                                                                  \n",
            " dense_64 (Dense)               (None, 64)           69184       ['flatten_16[0][0]']             \n",
            "                                                                                                  \n",
            " dropout_70 (Dropout)           (None, 64)           0           ['dense_64[0][0]']               \n",
            "                                                                                                  \n",
            " dense_65 (Dense)               (None, 64)           4160        ['dropout_70[0][0]']             \n",
            "                                                                                                  \n",
            " dropout_71 (Dropout)           (None, 64)           0           ['dense_65[0][0]']               \n",
            "                                                                                                  \n",
            " dense_66 (Dense)               (None, 32)           2080        ['dropout_71[0][0]']             \n",
            "                                                                                                  \n",
            " dropout_72 (Dropout)           (None, 32)           0           ['dense_66[0][0]']               \n",
            "                                                                                                  \n",
            " dense_67 (Dense)               (None, 2)            66          ['dropout_72[0][0]']             \n",
            "                                                                                                  \n",
            "==================================================================================================\n",
            "Total params: 89,350\n",
            "Trainable params: 89,350\n",
            "Non-trainable params: 0\n",
            "__________________________________________________________________________________________________\n"
          ]
        },
        {
          "name": "stderr",
          "output_type": "stream",
          "text": [
            "/usr/local/lib/python3.7/dist-packages/keras/optimizer_v2/adam.py:105: UserWarning: The `lr` argument is deprecated, use `learning_rate` instead.\n",
            "  super(Adam, self).__init__(name, **kwargs)\n"
          ]
        }
      ],
      "source": [
        "from tensorflow import keras\n",
        "from tensorflow.keras import layers\n",
        "import tensorflow as tf\n",
        "\n",
        "# hyperparameters\n",
        "lambda_ = 0.01 # lambda in loss fn\n",
        "alpha_ = 0.2  # capturing (1-alpha)% of samples\n",
        "soften_ = 160.\n",
        "n_ = 50 # batch size\n",
        "\n",
        "# define loss fn\n",
        "def qd_objective(y_true, y_pred):\n",
        "    '''Loss_QD-soft, from algorithm 1'''\n",
        "    y_true = y_true[:,0]\n",
        "    y_u = y_pred[:,0]\n",
        "    y_l = y_pred[:,1]\n",
        "    \n",
        "    K_HU = tf.maximum(0.,tf.sign(y_u - y_true))\n",
        "    K_HL = tf.maximum(0.,tf.sign(y_true - y_l))\n",
        "    K_H = tf.multiply(K_HU, K_HL)\n",
        "    \n",
        "    K_SU = tf.sigmoid(soften_ * (y_u - y_true))\n",
        "    K_SL = tf.sigmoid(soften_ * (y_true - y_l))\n",
        "    K_S = tf.multiply(K_SU, K_SL)\n",
        "    \n",
        "    MPIW_c = tf.reduce_sum(tf.multiply((y_u - y_l),K_H))/tf.reduce_sum(K_H+1e-5)\n",
        "    PICP_H = tf.reduce_mean(K_H)\n",
        "    PICP_S = tf.reduce_mean(K_S)\n",
        "    \n",
        "    Loss_S = MPIW_c + lambda_ * n_ / (alpha_*(1-alpha_)) * tf.maximum(0.,(1-alpha_) - PICP_S)**2\n",
        "    \n",
        "    return Loss_S\n",
        "    \n",
        "def transformer_encoder(inputs, head_size, num_heads, dropout=0):\n",
        "    # Attention and Normalization\n",
        "    x = layers.MultiHeadAttention(\n",
        "        key_dim=head_size, num_heads=num_heads, dropout=dropout\n",
        "    )(inputs, inputs)\n",
        "    x = layers.Dropout(dropout)(x)\n",
        "    x = layers.LayerNormalization(epsilon=1e-6)(x)\n",
        "    res = x + inputs\n",
        "    return res\n",
        "\n",
        "def build_model(\n",
        "    input_shape,\n",
        "    head_size,\n",
        "    num_heads,\n",
        "    num_transformer_blocks,\n",
        "    mlp_units,\n",
        "    dropout=0,\n",
        "    mlp_dropout=0,\n",
        "):\n",
        "    inputs = keras.Input(shape=input_shape)\n",
        "    x = inputs\n",
        "    for _ in range(num_transformer_blocks):\n",
        "        x = transformer_encoder(x, head_size, num_heads, dropout)\n",
        "\n",
        "    x = keras.layers.Flatten()(x)\n",
        "\n",
        "    for dim in mlp_units:\n",
        "        x = layers.Dense(dim, activation=\"relu\")(x)\n",
        "        x = layers.Dropout(mlp_dropout)(x)\n",
        "    #output with initialized biais values\n",
        "    outputs = layers.Dense(2, activation='linear',\n",
        "                kernel_initializer=keras.initializers.RandomNormal(mean=0.0, stddev=1e-6),  \n",
        "                bias_initializer=keras.initializers.Constant(value=[np.quantile(y_train_, 0.9),\n",
        "                                                                    np.quantile(y_train_, 0.1)]))(x)\n",
        "    \n",
        "    return keras.Model(inputs, outputs)\n",
        "\n",
        "\n",
        "model = build_model(\n",
        "    (180,6),\n",
        "    head_size=64,\n",
        "    num_heads=4,\n",
        "    dropout=0.5,\n",
        "    mlp_dropout=0.5,\n",
        "    num_transformer_blocks=2,\n",
        "    mlp_units=[64, 64, 32])\n",
        "\n",
        "opt = keras.optimizers.Adam(lr=1e-4)\n",
        "\n",
        "model.compile(\n",
        "    loss=qd_objective, \n",
        "    optimizer=opt)\n",
        "\n",
        "model.summary()\n",
        "callbacks = [keras.callbacks.EarlyStopping(patience=20, restore_best_weights=True)]"
      ]
    },
    {
      "cell_type": "code",
      "execution_count": 455,
      "metadata": {
        "colab": {
          "base_uri": "https://localhost:8080/",
          "height": 281
        },
        "id": "oqZSMLdx60Ek",
        "outputId": "25035285-62ca-410a-8235-050a69789df8"
      },
      "outputs": [
        {
          "data": {
            "image/png": "[encoded data removed]",
            "text/plain": [
              "<Figure size 432x288 with 1 Axes>"
            ]
          },
          "metadata": {
            "needs_background": "light"
          },
          "output_type": "display_data"
        }
      ],
      "source": [
        "# plot and view some predictions\n",
        "preds = model.predict(X_test_, batch_size=5)\n",
        "y_pred = preds\n",
        "y_u_pred = y_pred[:300,0]\n",
        "y_l_pred = y_pred[:300,1]\n",
        "\n",
        "plt.scatter(range(300), y_test_[:300], color='b')\n",
        "\n",
        "plt.plot(y_u_pred, color='r') # upper boundary prediction\n",
        "plt.plot(y_l_pred, color='g') # lower boundary prediction\n",
        "plt.title('Bounds BEFORE training')\n",
        "plt.show()"
      ]
    },
    {
      "cell_type": "code",
      "execution_count": 456,
      "metadata": {
        "colab": {
          "base_uri": "https://localhost:8080/"
        },
        "id": "kYPDeyHKfOpN",
        "outputId": "06c10e11-cd16-48a5-e5c5-4b2b6924b561"
      },
      "outputs": [
        {
          "name": "stdout",
          "output_type": "stream",
          "text": [
            "Epoch 1/500\n",
            "695/695 [==============================] - 11s 14ms/step - loss: 0.2895 - val_loss: 0.3067\n",
            "Epoch 2/500\n",
            "695/695 [==============================] - 10s 14ms/step - loss: 0.2749 - val_loss: 0.2914\n",
            "Epoch 3/500\n",
            "695/695 [==============================] - 10s 14ms/step - loss: 0.2678 - val_loss: 0.2813\n",
            "Epoch 4/500\n",
            "695/695 [==============================] - 9s 13ms/step - loss: 0.2587 - val_loss: 0.2770\n",
            "Epoch 5/500\n",
            "695/695 [==============================] - 9s 13ms/step - loss: 0.2546 - val_loss: 0.2741\n",
            "Epoch 6/500\n",
            "695/695 [==============================] - 9s 13ms/step - loss: 0.2490 - val_loss: 0.2992\n",
            "Epoch 7/500\n",
            "695/695 [==============================] - 9s 13ms/step - loss: 0.2476 - val_loss: 0.2723\n",
            "Epoch 8/500\n",
            "695/695 [==============================] - 9s 13ms/step - loss: 0.2454 - val_loss: 0.2739\n",
            "Epoch 9/500\n",
            "695/695 [==============================] - 9s 13ms/step - loss: 0.2427 - val_loss: 0.2798\n",
            "Epoch 10/500\n",
            "695/695 [==============================] - 9s 13ms/step - loss: 0.2414 - val_loss: 0.2643\n",
            "Epoch 11/500\n",
            "695/695 [==============================] - 9s 13ms/step - loss: 0.2407 - val_loss: 0.2594\n",
            "Epoch 12/500\n",
            "695/695 [==============================] - 9s 13ms/step - loss: 0.2382 - val_loss: 0.2547\n",
            "Epoch 13/500\n",
            "695/695 [==============================] - 9s 13ms/step - loss: 0.2382 - val_loss: 0.2667\n",
            "Epoch 14/500\n",
            "695/695 [==============================] - 10s 14ms/step - loss: 0.2350 - val_loss: 0.2565\n",
            "Epoch 15/500\n",
            "695/695 [==============================] - 9s 14ms/step - loss: 0.2345 - val_loss: 0.2563\n",
            "Epoch 16/500\n",
            "695/695 [==============================] - 9s 13ms/step - loss: 0.2339 - val_loss: 0.2665\n",
            "Epoch 17/500\n",
            "695/695 [==============================] - 9s 13ms/step - loss: 0.2316 - val_loss: 0.2759\n",
            "Epoch 18/500\n",
            "695/695 [==============================] - 9s 13ms/step - loss: 0.2300 - val_loss: 0.2809\n",
            "Epoch 19/500\n",
            "695/695 [==============================] - 9s 13ms/step - loss: 0.2289 - val_loss: 0.2663\n",
            "Epoch 20/500\n",
            "695/695 [==============================] - 9s 13ms/step - loss: 0.2278 - val_loss: 0.2685\n",
            "Epoch 21/500\n",
            "695/695 [==============================] - 9s 13ms/step - loss: 0.2292 - val_loss: 0.2724\n",
            "Epoch 22/500\n",
            "695/695 [==============================] - 9s 13ms/step - loss: 0.2274 - val_loss: 0.2763\n",
            "Epoch 23/500\n",
            "695/695 [==============================] - 9s 13ms/step - loss: 0.2262 - val_loss: 0.2703\n",
            "Epoch 24/500\n",
            "695/695 [==============================] - 9s 13ms/step - loss: 0.2271 - val_loss: 0.2636\n",
            "Epoch 25/500\n",
            "695/695 [==============================] - 9s 13ms/step - loss: 0.2268 - val_loss: 0.2754\n",
            "Epoch 26/500\n",
            "695/695 [==============================] - 9s 13ms/step - loss: 0.2259 - val_loss: 0.2408\n",
            "Epoch 27/500\n",
            "695/695 [==============================] - 9s 13ms/step - loss: 0.2247 - val_loss: 0.2753\n",
            "Epoch 28/500\n",
            "695/695 [==============================] - 10s 14ms/step - loss: 0.2245 - val_loss: 0.2810\n",
            "Epoch 29/500\n",
            "695/695 [==============================] - 10s 15ms/step - loss: 0.2255 - val_loss: 0.2653\n",
            "Epoch 30/500\n",
            "695/695 [==============================] - 9s 14ms/step - loss: 0.2244 - val_loss: 0.2597\n",
            "Epoch 31/500\n",
            "695/695 [==============================] - 10s 14ms/step - loss: 0.2248 - val_loss: 0.2593\n",
            "Epoch 32/500\n",
            "695/695 [==============================] - 9s 13ms/step - loss: 0.2209 - val_loss: 0.2670\n",
            "Epoch 33/500\n",
            "695/695 [==============================] - 9s 13ms/step - loss: 0.2220 - val_loss: 0.2874\n",
            "Epoch 34/500\n",
            "695/695 [==============================] - 9s 13ms/step - loss: 0.2218 - val_loss: 0.2845\n",
            "Epoch 35/500\n",
            "695/695 [==============================] - 9s 13ms/step - loss: 0.2233 - val_loss: 0.2714\n",
            "Epoch 36/500\n",
            "695/695 [==============================] - 9s 13ms/step - loss: 0.2220 - val_loss: 0.2660\n",
            "Epoch 37/500\n",
            "695/695 [==============================] - 9s 13ms/step - loss: 0.2218 - val_loss: 0.2598\n",
            "Epoch 38/500\n",
            "695/695 [==============================] - 9s 13ms/step - loss: 0.2203 - val_loss: 0.2926\n",
            "Epoch 39/500\n",
            "695/695 [==============================] - 9s 13ms/step - loss: 0.2194 - val_loss: 0.2759\n",
            "Epoch 40/500\n",
            "695/695 [==============================] - 9s 13ms/step - loss: 0.2221 - val_loss: 0.2730\n",
            "Epoch 41/500\n",
            "695/695 [==============================] - 9s 13ms/step - loss: 0.2207 - val_loss: 0.2904\n",
            "Epoch 42/500\n",
            "695/695 [==============================] - 9s 13ms/step - loss: 0.2209 - val_loss: 0.2686\n",
            "Epoch 43/500\n",
            "695/695 [==============================] - 10s 14ms/step - loss: 0.2206 - val_loss: 0.2544\n",
            "Epoch 44/500\n",
            "695/695 [==============================] - 9s 14ms/step - loss: 0.2204 - val_loss: 0.2787\n",
            "Epoch 45/500\n",
            "695/695 [==============================] - 9s 14ms/step - loss: 0.2201 - val_loss: 0.2690\n",
            "Epoch 46/500\n",
            "695/695 [==============================] - 10s 14ms/step - loss: 0.2204 - val_loss: 0.2951\n"
          ]
        },
        {
          "data": {
            "text/plain": [
              "<keras.callbacks.History at 0x7f88208ba690>"
            ]
          },
          "execution_count": 456,
          "metadata": {},
          "output_type": "execute_result"
        }
      ],
      "source": [
        "model.fit(\n",
        "    X_train_,\n",
        "    y_train_,\n",
        "    validation_data=(X_test_, y_test_),\n",
        "    epochs=500,\n",
        "    batch_size=n_,\n",
        "    callbacks=callbacks)"
      ]
    },
    {
      "cell_type": "code",
      "execution_count": 457,
      "metadata": {
        "colab": {
          "base_uri": "https://localhost:8080/",
          "height": 281
        },
        "id": "qai5V9t771Wx",
        "outputId": "d94d7078-6dfc-43d5-d1c1-3703f350f3d7"
      },
      "outputs": [
        {
          "data": {
            "image/png": "[encoded data removed]",
            "text/plain": [
              "<Figure size 432x288 with 1 Axes>"
            ]
          },
          "metadata": {
            "needs_background": "light"
          },
          "output_type": "display_data"
        }
      ],
      "source": [
        "# plot and view some predictions\n",
        "preds = model.predict(X_test_, batch_size=5)\n",
        "y_pred = preds\n",
        "y_u_pred = y_pred[:30,0]\n",
        "y_l_pred = y_pred[:30,1]\n",
        "\n",
        "plt.scatter(range(30), y_test_[:30], color='b')\n",
        "\n",
        "plt.plot(y_u_pred, color='r') # upper boundary prediction\n",
        "plt.plot(y_l_pred, color='g') # lower boundary prediction\n",
        "plt.title('Bounds AFTER training')\n",
        "plt.ylim(0,1)\n",
        "plt.show()"
      ]
    },
    {
      "cell_type": "code",
      "execution_count": 458,
      "metadata": {
        "colab": {
          "base_uri": "https://localhost:8080/"
        },
        "id": "i6_4Oe7W_0RH",
        "outputId": "e3c17dba-93fb-4732-ef02-f21651a77b65"
      },
      "outputs": [
        {
          "name": "stdout",
          "output_type": "stream",
          "text": [
            "Drive already mounted at /content/drive; to attempt to forcibly remount, call drive.mount(\"/content/drive\", force_remount=True).\n"
          ]
        }
      ],
      "source": [
        "from google.colab import drive\n",
        "drive.mount('/content/drive')"
      ]
    },
    {
      "cell_type": "code",
      "execution_count": 459,
      "metadata": {
        "colab": {
          "base_uri": "https://localhost:8080/"
        },
        "id": "jCqiupotNYOO",
        "outputId": "419238d9-7f5a-4de7-9e50-eca480acb896"
      },
      "outputs": [
        {
          "name": "stderr",
          "output_type": "stream",
          "text": [
            "WARNING:absl:Found untraced functions such as query_layer_call_fn, query_layer_call_and_return_conditional_losses, key_layer_call_fn, key_layer_call_and_return_conditional_losses, value_layer_call_fn while saving (showing 5 of 60). These functions will not be directly callable after loading.\n"
          ]
        },
        {
          "name": "stdout",
          "output_type": "stream",
          "text": [
            "INFO:tensorflow:Assets written to: /content/drive/MyDrive/vidfoot/mansa_model/assets\n"
          ]
        },
        {
          "name": "stderr",
          "output_type": "stream",
          "text": [
            "INFO:tensorflow:Assets written to: /content/drive/MyDrive/vidfoot/mansa_model/assets\n"
          ]
        }
      ],
      "source": [
        "model.save('/content/drive/MyDrive/mansa_model')"
      ]
    },
    {
      "cell_type": "markdown",
      "metadata": {
        "id": "BhVUQAZf8FcC"
      },
      "source": [
        "**Final thoughts**\n",
        "\n",
        "The model overfits quickly. I anticipated that, but decided to keep going as it might be used with much more data in the future. Again, I think that several approaches could (should) be used to challenge this one, and several possibilities at different levels are possible (switch to a Tree model with more pre-computed features, use more historical data for each person, a larger and deeper network, etc). \n",
        "\n",
        "Last but not least, one could benchmark this approach with a simple baseline (outgoing of last 30 days for example). "
      ]
    }
  ],
  "metadata": {
    "accelerator": "GPU",
    "colab": {
      "collapsed_sections": [],
      "machine_shape": "hm",
      "name": "mansa_inference.ipynb",
      "provenance": []
    },
    "kernelspec": {
      "display_name": "Python 3",
      "name": "python3"
    },
    "language_info": {
      "name": "python"
    }
  },
  "nbformat": 4,
  "nbformat_minor": 0
}
